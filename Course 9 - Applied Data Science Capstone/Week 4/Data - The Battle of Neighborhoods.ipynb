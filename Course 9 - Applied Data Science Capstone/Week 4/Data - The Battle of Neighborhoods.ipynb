{
 "cells": [
  {
   "cell_type": "markdown",
   "metadata": {},
   "source": [
    "# Capstone Project - The Battle of Neighborhoods (Week 1)"
   ]
  },
  {
   "cell_type": "markdown",
   "metadata": {},
   "source": [
    "## Data description"
   ]
  },
  {
   "cell_type": "markdown",
   "metadata": {},
   "source": [
    "We will use the dataset obtained in week. This contains the latitudes, longitudes and zip codes of Canada. This dataset can be found in: https://en.wikipedia.org/wiki/List_of_postal_codes_of_Canada:_M\n",
    "\n",
    "Taking into account the needs of our project, determining factors to establish a restaurant of Mediterranean gastronomy will be:\n",
    "\n",
    "- location of the neighborhood in the city of Toronto,\n",
    "- number and distance to Mediterranean restaurants in the neighborhood, in case there are any, and\n",
    "- number of existing restaurants of any kind in the neighborhood"
   ]
  },
  {
   "cell_type": "markdown",
   "metadata": {},
   "source": [
    "#### Foursquare API Data\n",
    "\n",
    "To get the data for the different neighborhoods of Toronto in Canada, we will use the Foursquare API. As in week 3 of the course, we will get location information of the venues. \n",
    "\n",
    "The data obtained from Foursquare are: Neighborhood, Neighborhood latitude, Neighborhood Longitude, Venue, Name of the Venue, Venue latitude, Venue longitude, and Venue category. "
   ]
  },
  {
   "cell_type": "markdown",
   "metadata": {},
   "source": [
    "#### Libraries\n",
    "\n",
    "- Pandas: to create and manipulate dataframes.\n",
    "- Scikit learn: to use k-means clustering.\n",
    "- Numpy: to support the creation of multidimensional arrays and vectors.\n",
    "- Matplotlib: to create plots.\n",
    "- Geocoder: to retrieve location data.\n",
    "- Folium: map rendering library.\n",
    "- JSON: to handle JSON files.\n",
    "- Requests: to handle requests."
   ]
  },
  {
   "cell_type": "markdown",
   "metadata": {},
   "source": [
    "#### Unsupervised machine learning\n",
    "\n",
    "For this project we will use the unsupervised learning algorithm k-means to segment and cluster the data and thus obtain enough information to know in which place is more appropriate to open a restaurant of Mediterranean gastronomy."
   ]
  }
 ],
 "metadata": {
  "kernelspec": {
   "display_name": "Python 3",
   "language": "python",
   "name": "python3"
  },
  "language_info": {
   "codemirror_mode": {
    "name": "ipython",
    "version": 3
   },
   "file_extension": ".py",
   "mimetype": "text/x-python",
   "name": "python",
   "nbconvert_exporter": "python",
   "pygments_lexer": "ipython3",
   "version": "3.8.3"
  }
 },
 "nbformat": 4,
 "nbformat_minor": 4
}
